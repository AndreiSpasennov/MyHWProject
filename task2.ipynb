{
 "cells": [
  {
   "cell_type": "code",
   "execution_count": 18,
   "id": "da0ba30f-fd84-461a-b3c8-3791f942b77d",
   "metadata": {
    "tags": []
   },
   "outputs": [
    {
     "name": "stdout",
     "output_type": "stream",
     "text": [
      "Number of string elements in the list = 2\n"
     ]
    }
   ],
   "source": [
    "my_list=[35,True,3.1415,'c',5,0.08,'pool']\n",
    "a=0\n",
    "for x in my_list:\n",
    "    if type(x) == str:\n",
    "        a=a+1\n",
    "print('Number of string elements in the list =',a)"
   ]
  },
  {
   "cell_type": "code",
   "execution_count": null,
   "id": "3359730b-4bd7-48ac-a0d7-55aa09482c90",
   "metadata": {},
   "outputs": [],
   "source": []
  }
 ],
 "metadata": {
  "kernelspec": {
   "display_name": "Python 3 (ipykernel)",
   "language": "python",
   "name": "python3"
  },
  "language_info": {
   "codemirror_mode": {
    "name": "ipython",
    "version": 3
   },
   "file_extension": ".py",
   "mimetype": "text/x-python",
   "name": "python",
   "nbconvert_exporter": "python",
   "pygments_lexer": "ipython3",
   "version": "3.10.9"
  }
 },
 "nbformat": 4,
 "nbformat_minor": 5
}
