{
 "cells": [
  {
   "cell_type": "code",
   "execution_count": null,
   "id": "5c90fbee-e959-47ff-b65e-be370dfd85ff",
   "metadata": {
    "tags": []
   },
   "outputs": [],
   "source": [
    "a = int(input('a= '))\n",
    "b = int(input('b= '))\n",
    "c = int(input('c= '))\n",
    "if a>b:\n",
    "    x=a\n",
    "    a=b\n",
    "    b=x\n",
    "if b>c:\n",
    "    y=b\n",
    "    b=c\n",
    "    c=y\n",
    "if a>b:\n",
    "    z=a\n",
    "    a=b\n",
    "    b=z\n",
    "print(a,\" \",b,\" \",c)"
   ]
  },
  {
   "cell_type": "code",
   "execution_count": null,
   "id": "97fa2dc4-485e-4039-941d-4cf778f283e1",
   "metadata": {},
   "outputs": [],
   "source": []
  }
 ],
 "metadata": {
  "kernelspec": {
   "display_name": "Python 3 (ipykernel)",
   "language": "python",
   "name": "python3"
  },
  "language_info": {
   "codemirror_mode": {
    "name": "ipython",
    "version": 3
   },
   "file_extension": ".py",
   "mimetype": "text/x-python",
   "name": "python",
   "nbconvert_exporter": "python",
   "pygments_lexer": "ipython3",
   "version": "3.10.9"
  }
 },
 "nbformat": 4,
 "nbformat_minor": 5
}
